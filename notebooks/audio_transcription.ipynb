{
 "cells": [
  {
   "cell_type": "markdown",
   "metadata": {},
   "source": [
    "# Audio Transcription"
   ]
  },
  {
   "cell_type": "markdown",
   "metadata": {},
   "source": [
    "### I. Data Gathering"
   ]
  },
  {
   "cell_type": "markdown",
   "metadata": {},
   "source": [
    "The dataset used for this project is the Common Voice dataset. Common Voice is a massive multi-lingual corpus of read speech by Mozilla [1]. This project used Common Voice Corpus 20.0 subset for Indonesian language.  "
   ]
  },
  {
   "cell_type": "code",
   "execution_count": 1,
   "metadata": {},
   "outputs": [],
   "source": [
    "import pandas as pd\n",
    "from sklearn.model_selection import train_test_split"
   ]
  },
  {
   "cell_type": "markdown",
   "metadata": {},
   "source": [
    "##### 1. Training Data"
   ]
  },
  {
   "cell_type": "code",
   "execution_count": 2,
   "metadata": {},
   "outputs": [],
   "source": [
    "train_df = pd.read_csv(\"../data/cv-corpus-6.1-indonesian/train.tsv\", sep = \"\\t\")"
   ]
  },
  {
   "cell_type": "code",
   "execution_count": 3,
   "metadata": {},
   "outputs": [
    {
     "data": {
      "text/html": [
       "<div>\n",
       "<style scoped>\n",
       "    .dataframe tbody tr th:only-of-type {\n",
       "        vertical-align: middle;\n",
       "    }\n",
       "\n",
       "    .dataframe tbody tr th {\n",
       "        vertical-align: top;\n",
       "    }\n",
       "\n",
       "    .dataframe thead th {\n",
       "        text-align: right;\n",
       "    }\n",
       "</style>\n",
       "<table border=\"1\" class=\"dataframe\">\n",
       "  <thead>\n",
       "    <tr style=\"text-align: right;\">\n",
       "      <th></th>\n",
       "      <th>client_id</th>\n",
       "      <th>path</th>\n",
       "      <th>sentence</th>\n",
       "      <th>up_votes</th>\n",
       "      <th>down_votes</th>\n",
       "      <th>age</th>\n",
       "      <th>gender</th>\n",
       "      <th>accent</th>\n",
       "      <th>locale</th>\n",
       "      <th>segment</th>\n",
       "    </tr>\n",
       "  </thead>\n",
       "  <tbody>\n",
       "    <tr>\n",
       "      <th>0</th>\n",
       "      <td>4c81270f49ada076d376a968994e1533674531b0fae896...</td>\n",
       "      <td>common_voice_id_19192526.mp3</td>\n",
       "      <td>Kamar adik laki-laki saya lebih sempit daripad...</td>\n",
       "      <td>2</td>\n",
       "      <td>0</td>\n",
       "      <td>twenties</td>\n",
       "      <td>male</td>\n",
       "      <td>NaN</td>\n",
       "      <td>id</td>\n",
       "      <td>NaN</td>\n",
       "    </tr>\n",
       "    <tr>\n",
       "      <th>1</th>\n",
       "      <td>4c81270f49ada076d376a968994e1533674531b0fae896...</td>\n",
       "      <td>common_voice_id_19192527.mp3</td>\n",
       "      <td>Ayah akan membunuhku.</td>\n",
       "      <td>2</td>\n",
       "      <td>0</td>\n",
       "      <td>twenties</td>\n",
       "      <td>male</td>\n",
       "      <td>NaN</td>\n",
       "      <td>id</td>\n",
       "      <td>NaN</td>\n",
       "    </tr>\n",
       "    <tr>\n",
       "      <th>2</th>\n",
       "      <td>4c81270f49ada076d376a968994e1533674531b0fae896...</td>\n",
       "      <td>common_voice_id_19192528.mp3</td>\n",
       "      <td>Ini pulpen.</td>\n",
       "      <td>2</td>\n",
       "      <td>0</td>\n",
       "      <td>twenties</td>\n",
       "      <td>male</td>\n",
       "      <td>NaN</td>\n",
       "      <td>id</td>\n",
       "      <td>NaN</td>\n",
       "    </tr>\n",
       "    <tr>\n",
       "      <th>3</th>\n",
       "      <td>4c81270f49ada076d376a968994e1533674531b0fae896...</td>\n",
       "      <td>common_voice_id_19192535.mp3</td>\n",
       "      <td>Akira pandai bermain tenis.</td>\n",
       "      <td>2</td>\n",
       "      <td>0</td>\n",
       "      <td>twenties</td>\n",
       "      <td>male</td>\n",
       "      <td>NaN</td>\n",
       "      <td>id</td>\n",
       "      <td>NaN</td>\n",
       "    </tr>\n",
       "    <tr>\n",
       "      <th>4</th>\n",
       "      <td>4c81270f49ada076d376a968994e1533674531b0fae896...</td>\n",
       "      <td>common_voice_id_19192536.mp3</td>\n",
       "      <td>Dia keluar dari ruangan tanpa mengatakan sepat...</td>\n",
       "      <td>2</td>\n",
       "      <td>1</td>\n",
       "      <td>twenties</td>\n",
       "      <td>male</td>\n",
       "      <td>NaN</td>\n",
       "      <td>id</td>\n",
       "      <td>NaN</td>\n",
       "    </tr>\n",
       "  </tbody>\n",
       "</table>\n",
       "</div>"
      ],
      "text/plain": [
       "                                           client_id  \\\n",
       "0  4c81270f49ada076d376a968994e1533674531b0fae896...   \n",
       "1  4c81270f49ada076d376a968994e1533674531b0fae896...   \n",
       "2  4c81270f49ada076d376a968994e1533674531b0fae896...   \n",
       "3  4c81270f49ada076d376a968994e1533674531b0fae896...   \n",
       "4  4c81270f49ada076d376a968994e1533674531b0fae896...   \n",
       "\n",
       "                           path  \\\n",
       "0  common_voice_id_19192526.mp3   \n",
       "1  common_voice_id_19192527.mp3   \n",
       "2  common_voice_id_19192528.mp3   \n",
       "3  common_voice_id_19192535.mp3   \n",
       "4  common_voice_id_19192536.mp3   \n",
       "\n",
       "                                            sentence  up_votes  down_votes  \\\n",
       "0  Kamar adik laki-laki saya lebih sempit daripad...         2           0   \n",
       "1                              Ayah akan membunuhku.         2           0   \n",
       "2                                        Ini pulpen.         2           0   \n",
       "3                        Akira pandai bermain tenis.         2           0   \n",
       "4  Dia keluar dari ruangan tanpa mengatakan sepat...         2           1   \n",
       "\n",
       "        age gender  accent locale  segment  \n",
       "0  twenties   male     NaN     id      NaN  \n",
       "1  twenties   male     NaN     id      NaN  \n",
       "2  twenties   male     NaN     id      NaN  \n",
       "3  twenties   male     NaN     id      NaN  \n",
       "4  twenties   male     NaN     id      NaN  "
      ]
     },
     "execution_count": 3,
     "metadata": {},
     "output_type": "execute_result"
    }
   ],
   "source": [
    "train_df.head(5)"
   ]
  },
  {
   "cell_type": "code",
   "execution_count": 4,
   "metadata": {},
   "outputs": [],
   "source": [
    "train_df = train_df[train_df[\"up_votes\"] >= train_df[\"down_votes\"]]\n",
    "train_df = train_df[[\"path\", \"sentence\"]]"
   ]
  },
  {
   "cell_type": "code",
   "execution_count": 5,
   "metadata": {},
   "outputs": [
    {
     "data": {
      "text/plain": [
       "0"
      ]
     },
     "execution_count": 5,
     "metadata": {},
     "output_type": "execute_result"
    }
   ],
   "source": [
    "train_df.duplicated().sum()"
   ]
  },
  {
   "cell_type": "code",
   "execution_count": 6,
   "metadata": {},
   "outputs": [
    {
     "data": {
      "text/plain": [
       "path        0\n",
       "sentence    0\n",
       "dtype: int64"
      ]
     },
     "execution_count": 6,
     "metadata": {},
     "output_type": "execute_result"
    }
   ],
   "source": [
    "train_df.isna().sum()"
   ]
  },
  {
   "cell_type": "markdown",
   "metadata": {},
   "source": [
    "##### 2. Testing Data"
   ]
  },
  {
   "cell_type": "code",
   "execution_count": 7,
   "metadata": {},
   "outputs": [],
   "source": [
    "test_df = pd.read_csv(\"../data/cv-corpus-6.1-indonesian/test.tsv\", sep = \"\\t\")"
   ]
  },
  {
   "cell_type": "code",
   "execution_count": 8,
   "metadata": {},
   "outputs": [
    {
     "data": {
      "text/html": [
       "<div>\n",
       "<style scoped>\n",
       "    .dataframe tbody tr th:only-of-type {\n",
       "        vertical-align: middle;\n",
       "    }\n",
       "\n",
       "    .dataframe tbody tr th {\n",
       "        vertical-align: top;\n",
       "    }\n",
       "\n",
       "    .dataframe thead th {\n",
       "        text-align: right;\n",
       "    }\n",
       "</style>\n",
       "<table border=\"1\" class=\"dataframe\">\n",
       "  <thead>\n",
       "    <tr style=\"text-align: right;\">\n",
       "      <th></th>\n",
       "      <th>client_id</th>\n",
       "      <th>path</th>\n",
       "      <th>sentence</th>\n",
       "      <th>up_votes</th>\n",
       "      <th>down_votes</th>\n",
       "      <th>age</th>\n",
       "      <th>gender</th>\n",
       "      <th>accent</th>\n",
       "      <th>locale</th>\n",
       "      <th>segment</th>\n",
       "    </tr>\n",
       "  </thead>\n",
       "  <tbody>\n",
       "    <tr>\n",
       "      <th>0</th>\n",
       "      <td>057bf45c0c338db897f5717f744bcac8a2ac2eee990a42...</td>\n",
       "      <td>common_voice_id_22888800.mp3</td>\n",
       "      <td>Minggu depan kakak perempuan saya menikah.</td>\n",
       "      <td>2</td>\n",
       "      <td>0</td>\n",
       "      <td>NaN</td>\n",
       "      <td>NaN</td>\n",
       "      <td>NaN</td>\n",
       "      <td>id</td>\n",
       "      <td>NaN</td>\n",
       "    </tr>\n",
       "    <tr>\n",
       "      <th>1</th>\n",
       "      <td>0835fbbf1d609a6ed421eef134a48ff06d719121b41f3b...</td>\n",
       "      <td>common_voice_id_24015257.mp3</td>\n",
       "      <td>Berbagai bahasa daerah dan bahasa asing menjad...</td>\n",
       "      <td>2</td>\n",
       "      <td>1</td>\n",
       "      <td>NaN</td>\n",
       "      <td>NaN</td>\n",
       "      <td>NaN</td>\n",
       "      <td>id</td>\n",
       "      <td>NaN</td>\n",
       "    </tr>\n",
       "    <tr>\n",
       "      <th>2</th>\n",
       "      <td>0c8ac0307f35c73b09d8fc0d92e4c183e3078adee87212...</td>\n",
       "      <td>common_voice_id_24015280.mp3</td>\n",
       "      <td>apa yang bisa saya berikan kepadamu?</td>\n",
       "      <td>2</td>\n",
       "      <td>0</td>\n",
       "      <td>NaN</td>\n",
       "      <td>NaN</td>\n",
       "      <td>NaN</td>\n",
       "      <td>id</td>\n",
       "      <td>NaN</td>\n",
       "    </tr>\n",
       "    <tr>\n",
       "      <th>3</th>\n",
       "      <td>19285f8e012ad31cad237d53bab348ce59a5cc13684754...</td>\n",
       "      <td>common_voice_id_20425643.mp3</td>\n",
       "      <td>Inilah dunia kecil.</td>\n",
       "      <td>2</td>\n",
       "      <td>1</td>\n",
       "      <td>NaN</td>\n",
       "      <td>NaN</td>\n",
       "      <td>NaN</td>\n",
       "      <td>id</td>\n",
       "      <td>NaN</td>\n",
       "    </tr>\n",
       "    <tr>\n",
       "      <th>4</th>\n",
       "      <td>3502377c5fb712169a3f2fe5583906e4b3a5ecba27bf2c...</td>\n",
       "      <td>common_voice_id_22185104.mp3</td>\n",
       "      <td>nol</td>\n",
       "      <td>2</td>\n",
       "      <td>0</td>\n",
       "      <td>NaN</td>\n",
       "      <td>NaN</td>\n",
       "      <td>NaN</td>\n",
       "      <td>id</td>\n",
       "      <td>Benchmark</td>\n",
       "    </tr>\n",
       "  </tbody>\n",
       "</table>\n",
       "</div>"
      ],
      "text/plain": [
       "                                           client_id  \\\n",
       "0  057bf45c0c338db897f5717f744bcac8a2ac2eee990a42...   \n",
       "1  0835fbbf1d609a6ed421eef134a48ff06d719121b41f3b...   \n",
       "2  0c8ac0307f35c73b09d8fc0d92e4c183e3078adee87212...   \n",
       "3  19285f8e012ad31cad237d53bab348ce59a5cc13684754...   \n",
       "4  3502377c5fb712169a3f2fe5583906e4b3a5ecba27bf2c...   \n",
       "\n",
       "                           path  \\\n",
       "0  common_voice_id_22888800.mp3   \n",
       "1  common_voice_id_24015257.mp3   \n",
       "2  common_voice_id_24015280.mp3   \n",
       "3  common_voice_id_20425643.mp3   \n",
       "4  common_voice_id_22185104.mp3   \n",
       "\n",
       "                                            sentence  up_votes  down_votes  \\\n",
       "0         Minggu depan kakak perempuan saya menikah.         2           0   \n",
       "1  Berbagai bahasa daerah dan bahasa asing menjad...         2           1   \n",
       "2               apa yang bisa saya berikan kepadamu?         2           0   \n",
       "3                                Inilah dunia kecil.         2           1   \n",
       "4                                                nol         2           0   \n",
       "\n",
       "   age gender  accent locale    segment  \n",
       "0  NaN    NaN     NaN     id        NaN  \n",
       "1  NaN    NaN     NaN     id        NaN  \n",
       "2  NaN    NaN     NaN     id        NaN  \n",
       "3  NaN    NaN     NaN     id        NaN  \n",
       "4  NaN    NaN     NaN     id  Benchmark  "
      ]
     },
     "execution_count": 8,
     "metadata": {},
     "output_type": "execute_result"
    }
   ],
   "source": [
    "test_df.head(5)"
   ]
  },
  {
   "cell_type": "code",
   "execution_count": 9,
   "metadata": {},
   "outputs": [],
   "source": [
    "test_df = test_df[test_df[\"up_votes\"] >= test_df[\"down_votes\"]]\n",
    "test_df = test_df[[\"path\", \"sentence\"]]"
   ]
  },
  {
   "cell_type": "code",
   "execution_count": 10,
   "metadata": {},
   "outputs": [
    {
     "data": {
      "text/plain": [
       "0"
      ]
     },
     "execution_count": 10,
     "metadata": {},
     "output_type": "execute_result"
    }
   ],
   "source": [
    "test_df.duplicated().sum()"
   ]
  },
  {
   "cell_type": "code",
   "execution_count": 11,
   "metadata": {},
   "outputs": [
    {
     "data": {
      "text/plain": [
       "path        0\n",
       "sentence    0\n",
       "dtype: int64"
      ]
     },
     "execution_count": 11,
     "metadata": {},
     "output_type": "execute_result"
    }
   ],
   "source": [
    "test_df.isna().sum()"
   ]
  },
  {
   "cell_type": "markdown",
   "metadata": {},
   "source": [
    "##### 3. Split Data"
   ]
  },
  {
   "cell_type": "code",
   "execution_count": 12,
   "metadata": {},
   "outputs": [],
   "source": [
    "valid_df, test_df = train_test_split(test_df, test_size = 0.5, random_state = 42)"
   ]
  },
  {
   "cell_type": "markdown",
   "metadata": {},
   "source": [
    "### II. Data Preprocessing"
   ]
  },
  {
   "cell_type": "code",
   "execution_count": 13,
   "metadata": {},
   "outputs": [],
   "source": [
    "import numpy as np\n",
    "import scipy"
   ]
  },
  {
   "cell_type": "markdown",
   "metadata": {},
   "source": [
    "The data preprocessing techniques used for this projects are:\n",
    "1. Normalization\n",
    "2. Frame Blocking\n",
    "3. Windowing\n",
    "4. Fast Fourier Transform (FFT)\n",
    "5. Mel Filterbank\n",
    "6. Discrete Cosine Transform (DCT)"
   ]
  },
  {
   "cell_type": "markdown",
   "metadata": {},
   "source": [
    "##### 1. Normalization"
   ]
  },
  {
   "cell_type": "markdown",
   "metadata": {},
   "source": [
    "Normalization is a process of adjusting the range of a signal to a certain range."
   ]
  },
  {
   "cell_type": "code",
   "execution_count": 14,
   "metadata": {},
   "outputs": [],
   "source": [
    "def normalization(audio):\n",
    "    audio = audio / np.max(np.abs(audio))\n",
    "    return audio"
   ]
  },
  {
   "cell_type": "markdown",
   "metadata": {},
   "source": [
    "##### 2. Frame Blocking"
   ]
  },
  {
   "cell_type": "markdown",
   "metadata": {},
   "source": [
    "Frame blocking is a process of splitting speech signal into a series of frames with equal length. Usually, the frame length is 20-40 ms [2]. "
   ]
  },
  {
   "cell_type": "code",
   "execution_count": 15,
   "metadata": {},
   "outputs": [],
   "source": [
    "def frame_blocking(audio, sample_rate, FFT_SIZE, hop_size):\n",
    "    audio = np.pad(audio, FFT_SIZE // 2, mode = \"reflect\")\n",
    "\n",
    "    frame_len = int(np.round(sample_rate * hop_size / 1000))\n",
    "\n",
    "    frame_num = (len(audio) - FFT_SIZE) // frame_len + 1\n",
    "\n",
    "    frames = np.zeros((frame_num, FFT_SIZE))\n",
    "\n",
    "    for i in range(frame_num):\n",
    "        frames[i] = audio[i * frame_len : i * frame_len + FFT_SIZE]\n",
    "\n",
    "    return frames"
   ]
  },
  {
   "cell_type": "markdown",
   "metadata": {},
   "source": [
    "##### 3. Windowing"
   ]
  },
  {
   "cell_type": "markdown",
   "metadata": {},
   "source": [
    "Windowing is a process to help smoothing the signal and avoiding signal discontinuity [2]. Windowing techniques are divided into:\n",
    "- Rectangular Window\n",
    "- Hamming Window\n",
    "- Hanning Window\n",
    "- Blackman Window"
   ]
  },
  {
   "cell_type": "code",
   "execution_count": 16,
   "metadata": {},
   "outputs": [],
   "source": [
    "def windowing(frames, FFT_SIZE, windowing_techniques = \"hann\"):\n",
    "    window = scipy.signal.get_window(windowing_techniques, FFT_SIZE)\n",
    "    audio_window = frames * window\n",
    "\n",
    "    return audio_window"
   ]
  },
  {
   "cell_type": "markdown",
   "metadata": {},
   "source": [
    "##### 4. Fast Fourier Transform (FFT)"
   ]
  },
  {
   "cell_type": "markdown",
   "metadata": {},
   "source": [
    "Fast Fourier Transform (FFT) is a process of converting signal from time domain into frequency domain [3]."
   ]
  },
  {
   "cell_type": "code",
   "execution_count": 17,
   "metadata": {},
   "outputs": [],
   "source": [
    "def FFT(audio_window, FFT_SIZE):\n",
    "    audio_fft = np.empty((audio_window.shape[0], 1 + FFT_SIZE // 2))\n",
    "\n",
    "    for i in range(audio_window.shape[0]):\n",
    "        audio_fft[i] = scipy.fftpack.fft(audio_window[i])[:audio_fft.shape[1]]\n",
    "\n",
    "    return audio_fft"
   ]
  },
  {
   "cell_type": "markdown",
   "metadata": {},
   "source": [
    "##### 5. Mel Filterbank"
   ]
  },
  {
   "cell_type": "markdown",
   "metadata": {},
   "source": [
    "Mel filterbank is a process to approximate the non-linear human auditory system's frequency response [4]."
   ]
  },
  {
   "cell_type": "code",
   "execution_count": 18,
   "metadata": {},
   "outputs": [],
   "source": [
    "def frequency_to_mel(frequency):\n",
    "    return 2595 * np.log10(1 + (frequency / 700))"
   ]
  },
  {
   "cell_type": "code",
   "execution_count": 19,
   "metadata": {},
   "outputs": [],
   "source": [
    "def mel_to_frequency(mel):\n",
    "    return 700 * (10 ** (mel / 2595) - 1)"
   ]
  },
  {
   "cell_type": "code",
   "execution_count": 20,
   "metadata": {},
   "outputs": [],
   "source": [
    "def get_filter_points(frequency_min, frequency_max, mel_filter_num, FFT_SIZE, sample_rate):\n",
    "    mel_min = frequency_to_mel(frequency_min)\n",
    "    mel_max = frequency_to_mel(frequency_max)\n",
    "    \n",
    "    mel = np.linspace(mel_min, mel_max, mel_filter_num + 2)\n",
    "    \n",
    "    frequency = mel_to_frequency(mel)\n",
    "\n",
    "    return np.floor((FFT_SIZE + 1) / sample_rate * frequency).astype(int), frequency"
   ]
  },
  {
   "cell_type": "code",
   "execution_count": 21,
   "metadata": {},
   "outputs": [],
   "source": [
    "def get_filters(filter_points, FFT_SIZE):\n",
    "    filters = np.zeros((len(filter_points) - 2, int(FFT_SIZE) // 2 + 1))\n",
    "    \n",
    "    for i in range(filters.shape[0]):\n",
    "        filters[i, filter_points[i]:filter_points[i + 1]] = np.linspace(0, 1, filter_points[i + 1] - filter_points[i])\n",
    "        filters[i, filter_points[i + 1]:filter_points[i + 2]] = np.linspace(1, 0, filter_points[i + 2] - filter_points[i + 1])\n",
    "        \n",
    "    return filters        "
   ]
  },
  {
   "cell_type": "code",
   "execution_count": 22,
   "metadata": {},
   "outputs": [],
   "source": [
    "def mel_filterbank(sample_rate, frequency_min, frequency_max, mel_filter_num, FFT_SIZE):\n",
    "    filter_points, frequency = get_filter_points(frequency_min, frequency_max, mel_filter_num, FFT_SIZE, sample_rate)\n",
    "    filters = get_filters(filter_points, FFT_SIZE)\n",
    "\n",
    "    return filters"
   ]
  },
  {
   "cell_type": "markdown",
   "metadata": {},
   "source": [
    "##### 6. Discrete Cosine Transform (DCT)"
   ]
  },
  {
   "cell_type": "markdown",
   "metadata": {},
   "source": [
    "Discrete Cosine Transform (DCT) is a process to decorrelate the filterbank energies and obtain a compact representation of the spectral envelope of the logarithmically-scaled filterbank [4]."
   ]
  },
  {
   "cell_type": "code",
   "execution_count": 23,
   "metadata": {},
   "outputs": [],
   "source": [
    "def DCT(filter_num, filter_len):\n",
    "    basis = np.empty((filter_num, filter_len))\n",
    "    \n",
    "    basis[0, :] = 1 / np.sqrt(filter_len)\n",
    "    \n",
    "    samples = np.arange(1, 2 * filter_len, 2) * np.pi / (filter_len * 2)\n",
    "    \n",
    "    for i in range(1, filter_num):\n",
    "        basis[i, :] = np.cos(i * samples) / np.sqrt(filter_len * 2)\n",
    "        \n",
    "    return basis"
   ]
  },
  {
   "cell_type": "markdown",
   "metadata": {},
   "source": [
    "### III. Feature Extraction"
   ]
  },
  {
   "cell_type": "markdown",
   "metadata": {},
   "source": [
    "The feature extraction technique used for this project is the Mel Frequency Cepstral Coefficient (MFCC). MFCC is one of the most commonly used feature extraction in speech recognition because it can work well on inputs with a high level of correlation [5]."
   ]
  },
  {
   "cell_type": "code",
   "execution_count": 24,
   "metadata": {},
   "outputs": [],
   "source": [
    "import librosa"
   ]
  },
  {
   "cell_type": "code",
   "execution_count": 25,
   "metadata": {},
   "outputs": [],
   "source": [
    "def MFCC(audio, sample_rate, FFT_SIZE = 512, hop_size = 10, mel_filter_num = 26, frequency_min = 0, frequency_max = None, num_coefficients = 13):\n",
    "    if frequency_max is None:\n",
    "        frequency_max = sample_rate // 2  #\n",
    "    \n",
    "    audio = normalization(audio)\n",
    "\n",
    "    frames = frame_blocking(audio, sample_rate, FFT_SIZE, hop_size)\n",
    "\n",
    "    audio_window = windowing(frames, FFT_SIZE)\n",
    "\n",
    "    audio_fft = FFT(audio_window, FFT_SIZE)\n",
    "\n",
    "    filters = mel_filterbank(sample_rate, frequency_min, frequency_max, mel_filter_num, FFT_SIZE)\n",
    "    \n",
    "    power_spectrum = np.abs(audio_fft) ** 2 \n",
    "    \n",
    "    mel_spectrum = np.dot(power_spectrum, filters.T)\n",
    "\n",
    "    mel_spectrum_log = np.log(mel_spectrum + 1e-6) \n",
    "\n",
    "    mfcc = DCT(mel_filter_num, mel_spectrum_log.shape[1])\n",
    "\n",
    "    return mfcc.dot(mel_spectrum_log.T).T[:, :num_coefficients] \n"
   ]
  },
  {
   "cell_type": "code",
   "execution_count": 26,
   "metadata": {},
   "outputs": [],
   "source": [
    "def apply_mfcc_to_df(df, sample_rate = 16000, FFT_SIZE = 512, hop_size = 10, mel_filter_num = 26, frequency_min = 0, frequency_max = None, num_coefficients = 13):\n",
    "    mfccs = []\n",
    "\n",
    "    for index, row in df.iterrows():\n",
    "        audio_path = f'../data/cv-corpus-6.1-indonesian/clips/{row[\"path\"]}'\n",
    "        \n",
    "        audio, sr = librosa.load(audio_path, sr = sample_rate)\n",
    "\n",
    "        mfcc = MFCC(audio, sr, FFT_SIZE, hop_size, mel_filter_num, frequency_min, frequency_max, num_coefficients)\n",
    "        \n",
    "        mfccs.append(mfcc)\n",
    "    \n",
    "    df[\"mfcc\"] = mfccs\n",
    "    return df"
   ]
  },
  {
   "cell_type": "code",
   "execution_count": 27,
   "metadata": {},
   "outputs": [
    {
     "name": "stderr",
     "output_type": "stream",
     "text": [
      "C:\\Users\\PC\\AppData\\Local\\Temp\\ipykernel_5348\\3319919952.py:5: ComplexWarning: Casting complex values to real discards the imaginary part\n",
      "  audio_fft[i] = scipy.fftpack.fft(audio_window[i])[:audio_fft.shape[1]]\n",
      "C:\\Users\\PC\\AppData\\Local\\Temp\\ipykernel_5348\\3319919952.py:5: ComplexWarning: Casting complex values to real discards the imaginary part\n",
      "  audio_fft[i] = scipy.fftpack.fft(audio_window[i])[:audio_fft.shape[1]]\n",
      "C:\\Users\\PC\\AppData\\Local\\Temp\\ipykernel_5348\\3319919952.py:5: ComplexWarning: Casting complex values to real discards the imaginary part\n",
      "  audio_fft[i] = scipy.fftpack.fft(audio_window[i])[:audio_fft.shape[1]]\n"
     ]
    }
   ],
   "source": [
    "train_df = apply_mfcc_to_df(train_df)\n",
    "valid_df = apply_mfcc_to_df(valid_df)\n",
    "test_df = apply_mfcc_to_df(test_df)"
   ]
  },
  {
   "cell_type": "code",
   "execution_count": 30,
   "metadata": {},
   "outputs": [],
   "source": [
    "train_df.to_csv(\"../data/cv-corpus-6.1-indonesian-processed/train.csv\")\n",
    "valid_df.to_csv(\"../data/cv-corpus-6.1-indonesian-processed/valid.csv\")\n",
    "test_df.to_csv(\"../data/cv-corpus-6.1-indonesian-processed/test.csv\")"
   ]
  },
  {
   "cell_type": "markdown",
   "metadata": {},
   "source": [
    "### IV. Modeling"
   ]
  },
  {
   "cell_type": "markdown",
   "metadata": {},
   "source": [
    "### V. Model Evaluation"
   ]
  },
  {
   "cell_type": "markdown",
   "metadata": {},
   "source": [
    "### VI. Conclusion"
   ]
  },
  {
   "cell_type": "markdown",
   "metadata": {},
   "source": [
    "### VII. References"
   ]
  },
  {
   "cell_type": "markdown",
   "metadata": {},
   "source": [
    "[1] L. Maison and Y. Estève, “Some voices are too common: Building fair speech recognition systems using the Common Voice dataset.”\n",
    "\n",
    "[2] M. Labied, A. Belangour, M. Banane, and A. Erraissi, “An overview of Automatic Speech Recognition Preprocessing Techniques,” in 2022 International Conference on Decision Aid Sciences and Applications (DASA), IEEE, Mar. 2022, pp. 804–809. doi: 10.1109/DASA54658.2022.9765043.\n",
    "\n",
    "[3] R. D. Septiawan, P. R. Rayes, and N. A. Robbaniyyah, “Simulasi Penghilangan Noise pada Sinyal Suara menggunakan Metode Fast Fourier Transfrom,” Semeton Mathematics Journal, vol. 1, no. 1, pp. 1–7, Apr. 2024, doi: 10.29303/semeton.v1i1.203.\n",
    "\n",
    "[4] M. Y. Wang, Z. Chu, C. Entzminger, Y. Ding, and Q. Zhang, “Visualization and Interpretation of Mel-Frequency Cepstral Coefficients for UAV Drone Audio Data,” in Proceedings of the 13th International Conference on Data Science, Technology and Applications, DATA 2024, SciTePress, 2024, pp. 528–534. doi: 10.5220/0012827400003756.\n",
    "  \n",
    "\n",
    "[5] W. Mustikarini, R. Hidayat, and A. Bejo, “Real-Time Indonesian Language Speech Recognition with MFCC Algorithms and Python-Based SVM,” 2019.\n",
    "  \n",
    "  "
   ]
  }
 ],
 "metadata": {
  "kernelspec": {
   "display_name": "main-gpu",
   "language": "python",
   "name": "python3"
  },
  "language_info": {
   "codemirror_mode": {
    "name": "ipython",
    "version": 3
   },
   "file_extension": ".py",
   "mimetype": "text/x-python",
   "name": "python",
   "nbconvert_exporter": "python",
   "pygments_lexer": "ipython3",
   "version": "3.10.16"
  }
 },
 "nbformat": 4,
 "nbformat_minor": 2
}
