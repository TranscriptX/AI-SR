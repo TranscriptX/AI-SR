{
 "cells": [
  {
   "cell_type": "markdown",
   "metadata": {},
   "source": [
    "# Audio Transcription"
   ]
  },
  {
   "cell_type": "markdown",
   "metadata": {},
   "source": [
    "### I. Data Gathering"
   ]
  },
  {
   "cell_type": "markdown",
   "metadata": {},
   "source": [
    "The dataset used for this project is the Common Voice dataset. Common Voice is a massive multi-lingual corpus of read speech by Mozilla [1]. This project used Common Voice Corpus 20.0 subset for Indonesian language.  "
   ]
  },
  {
   "cell_type": "code",
   "execution_count": 1,
   "metadata": {},
   "outputs": [],
   "source": [
    "import pandas as pd\n",
    "from sklearn.model_selection import train_test_split"
   ]
  },
  {
   "cell_type": "markdown",
   "metadata": {},
   "source": [
    "##### 1. Training Data"
   ]
  },
  {
   "cell_type": "code",
   "execution_count": 2,
   "metadata": {},
   "outputs": [],
   "source": [
    "train_df = pd.read_csv(\"../data/cv-corpus-6.1-indonesian/train.tsv\", sep = \"\\t\")"
   ]
  },
  {
   "cell_type": "code",
   "execution_count": 3,
   "metadata": {},
   "outputs": [
    {
     "data": {
      "text/html": [
       "<div>\n",
       "<style scoped>\n",
       "    .dataframe tbody tr th:only-of-type {\n",
       "        vertical-align: middle;\n",
       "    }\n",
       "\n",
       "    .dataframe tbody tr th {\n",
       "        vertical-align: top;\n",
       "    }\n",
       "\n",
       "    .dataframe thead th {\n",
       "        text-align: right;\n",
       "    }\n",
       "</style>\n",
       "<table border=\"1\" class=\"dataframe\">\n",
       "  <thead>\n",
       "    <tr style=\"text-align: right;\">\n",
       "      <th></th>\n",
       "      <th>client_id</th>\n",
       "      <th>path</th>\n",
       "      <th>sentence</th>\n",
       "      <th>up_votes</th>\n",
       "      <th>down_votes</th>\n",
       "      <th>age</th>\n",
       "      <th>gender</th>\n",
       "      <th>accent</th>\n",
       "      <th>locale</th>\n",
       "      <th>segment</th>\n",
       "    </tr>\n",
       "  </thead>\n",
       "  <tbody>\n",
       "    <tr>\n",
       "      <th>0</th>\n",
       "      <td>4c81270f49ada076d376a968994e1533674531b0fae896...</td>\n",
       "      <td>common_voice_id_19192526.mp3</td>\n",
       "      <td>Kamar adik laki-laki saya lebih sempit daripad...</td>\n",
       "      <td>2</td>\n",
       "      <td>0</td>\n",
       "      <td>twenties</td>\n",
       "      <td>male</td>\n",
       "      <td>NaN</td>\n",
       "      <td>id</td>\n",
       "      <td>NaN</td>\n",
       "    </tr>\n",
       "    <tr>\n",
       "      <th>1</th>\n",
       "      <td>4c81270f49ada076d376a968994e1533674531b0fae896...</td>\n",
       "      <td>common_voice_id_19192527.mp3</td>\n",
       "      <td>Ayah akan membunuhku.</td>\n",
       "      <td>2</td>\n",
       "      <td>0</td>\n",
       "      <td>twenties</td>\n",
       "      <td>male</td>\n",
       "      <td>NaN</td>\n",
       "      <td>id</td>\n",
       "      <td>NaN</td>\n",
       "    </tr>\n",
       "    <tr>\n",
       "      <th>2</th>\n",
       "      <td>4c81270f49ada076d376a968994e1533674531b0fae896...</td>\n",
       "      <td>common_voice_id_19192528.mp3</td>\n",
       "      <td>Ini pulpen.</td>\n",
       "      <td>2</td>\n",
       "      <td>0</td>\n",
       "      <td>twenties</td>\n",
       "      <td>male</td>\n",
       "      <td>NaN</td>\n",
       "      <td>id</td>\n",
       "      <td>NaN</td>\n",
       "    </tr>\n",
       "    <tr>\n",
       "      <th>3</th>\n",
       "      <td>4c81270f49ada076d376a968994e1533674531b0fae896...</td>\n",
       "      <td>common_voice_id_19192535.mp3</td>\n",
       "      <td>Akira pandai bermain tenis.</td>\n",
       "      <td>2</td>\n",
       "      <td>0</td>\n",
       "      <td>twenties</td>\n",
       "      <td>male</td>\n",
       "      <td>NaN</td>\n",
       "      <td>id</td>\n",
       "      <td>NaN</td>\n",
       "    </tr>\n",
       "    <tr>\n",
       "      <th>4</th>\n",
       "      <td>4c81270f49ada076d376a968994e1533674531b0fae896...</td>\n",
       "      <td>common_voice_id_19192536.mp3</td>\n",
       "      <td>Dia keluar dari ruangan tanpa mengatakan sepat...</td>\n",
       "      <td>2</td>\n",
       "      <td>1</td>\n",
       "      <td>twenties</td>\n",
       "      <td>male</td>\n",
       "      <td>NaN</td>\n",
       "      <td>id</td>\n",
       "      <td>NaN</td>\n",
       "    </tr>\n",
       "  </tbody>\n",
       "</table>\n",
       "</div>"
      ],
      "text/plain": [
       "                                           client_id  \\\n",
       "0  4c81270f49ada076d376a968994e1533674531b0fae896...   \n",
       "1  4c81270f49ada076d376a968994e1533674531b0fae896...   \n",
       "2  4c81270f49ada076d376a968994e1533674531b0fae896...   \n",
       "3  4c81270f49ada076d376a968994e1533674531b0fae896...   \n",
       "4  4c81270f49ada076d376a968994e1533674531b0fae896...   \n",
       "\n",
       "                           path  \\\n",
       "0  common_voice_id_19192526.mp3   \n",
       "1  common_voice_id_19192527.mp3   \n",
       "2  common_voice_id_19192528.mp3   \n",
       "3  common_voice_id_19192535.mp3   \n",
       "4  common_voice_id_19192536.mp3   \n",
       "\n",
       "                                            sentence  up_votes  down_votes  \\\n",
       "0  Kamar adik laki-laki saya lebih sempit daripad...         2           0   \n",
       "1                              Ayah akan membunuhku.         2           0   \n",
       "2                                        Ini pulpen.         2           0   \n",
       "3                        Akira pandai bermain tenis.         2           0   \n",
       "4  Dia keluar dari ruangan tanpa mengatakan sepat...         2           1   \n",
       "\n",
       "        age gender  accent locale  segment  \n",
       "0  twenties   male     NaN     id      NaN  \n",
       "1  twenties   male     NaN     id      NaN  \n",
       "2  twenties   male     NaN     id      NaN  \n",
       "3  twenties   male     NaN     id      NaN  \n",
       "4  twenties   male     NaN     id      NaN  "
      ]
     },
     "execution_count": 3,
     "metadata": {},
     "output_type": "execute_result"
    }
   ],
   "source": [
    "train_df.head(5)"
   ]
  },
  {
   "cell_type": "code",
   "execution_count": 4,
   "metadata": {},
   "outputs": [],
   "source": [
    "train_df = train_df[train_df[\"up_votes\"] >= train_df[\"down_votes\"]]\n",
    "train_df = train_df[[\"path\", \"sentence\"]]"
   ]
  },
  {
   "cell_type": "code",
   "execution_count": 5,
   "metadata": {},
   "outputs": [
    {
     "data": {
      "text/plain": [
       "0"
      ]
     },
     "execution_count": 5,
     "metadata": {},
     "output_type": "execute_result"
    }
   ],
   "source": [
    "train_df.duplicated().sum()"
   ]
  },
  {
   "cell_type": "code",
   "execution_count": 6,
   "metadata": {},
   "outputs": [
    {
     "data": {
      "text/plain": [
       "path        0\n",
       "sentence    0\n",
       "dtype: int64"
      ]
     },
     "execution_count": 6,
     "metadata": {},
     "output_type": "execute_result"
    }
   ],
   "source": [
    "train_df.isna().sum()"
   ]
  },
  {
   "cell_type": "markdown",
   "metadata": {},
   "source": [
    "##### 2. Testing Data"
   ]
  },
  {
   "cell_type": "code",
   "execution_count": 7,
   "metadata": {},
   "outputs": [],
   "source": [
    "test_df = pd.read_csv(\"../data/cv-corpus-6.1-indonesian/test.tsv\", sep = \"\\t\")"
   ]
  },
  {
   "cell_type": "code",
   "execution_count": 8,
   "metadata": {},
   "outputs": [
    {
     "data": {
      "text/html": [
       "<div>\n",
       "<style scoped>\n",
       "    .dataframe tbody tr th:only-of-type {\n",
       "        vertical-align: middle;\n",
       "    }\n",
       "\n",
       "    .dataframe tbody tr th {\n",
       "        vertical-align: top;\n",
       "    }\n",
       "\n",
       "    .dataframe thead th {\n",
       "        text-align: right;\n",
       "    }\n",
       "</style>\n",
       "<table border=\"1\" class=\"dataframe\">\n",
       "  <thead>\n",
       "    <tr style=\"text-align: right;\">\n",
       "      <th></th>\n",
       "      <th>client_id</th>\n",
       "      <th>path</th>\n",
       "      <th>sentence</th>\n",
       "      <th>up_votes</th>\n",
       "      <th>down_votes</th>\n",
       "      <th>age</th>\n",
       "      <th>gender</th>\n",
       "      <th>accent</th>\n",
       "      <th>locale</th>\n",
       "      <th>segment</th>\n",
       "    </tr>\n",
       "  </thead>\n",
       "  <tbody>\n",
       "    <tr>\n",
       "      <th>0</th>\n",
       "      <td>057bf45c0c338db897f5717f744bcac8a2ac2eee990a42...</td>\n",
       "      <td>common_voice_id_22888800.mp3</td>\n",
       "      <td>Minggu depan kakak perempuan saya menikah.</td>\n",
       "      <td>2</td>\n",
       "      <td>0</td>\n",
       "      <td>NaN</td>\n",
       "      <td>NaN</td>\n",
       "      <td>NaN</td>\n",
       "      <td>id</td>\n",
       "      <td>NaN</td>\n",
       "    </tr>\n",
       "    <tr>\n",
       "      <th>1</th>\n",
       "      <td>0835fbbf1d609a6ed421eef134a48ff06d719121b41f3b...</td>\n",
       "      <td>common_voice_id_24015257.mp3</td>\n",
       "      <td>Berbagai bahasa daerah dan bahasa asing menjad...</td>\n",
       "      <td>2</td>\n",
       "      <td>1</td>\n",
       "      <td>NaN</td>\n",
       "      <td>NaN</td>\n",
       "      <td>NaN</td>\n",
       "      <td>id</td>\n",
       "      <td>NaN</td>\n",
       "    </tr>\n",
       "    <tr>\n",
       "      <th>2</th>\n",
       "      <td>0c8ac0307f35c73b09d8fc0d92e4c183e3078adee87212...</td>\n",
       "      <td>common_voice_id_24015280.mp3</td>\n",
       "      <td>apa yang bisa saya berikan kepadamu?</td>\n",
       "      <td>2</td>\n",
       "      <td>0</td>\n",
       "      <td>NaN</td>\n",
       "      <td>NaN</td>\n",
       "      <td>NaN</td>\n",
       "      <td>id</td>\n",
       "      <td>NaN</td>\n",
       "    </tr>\n",
       "    <tr>\n",
       "      <th>3</th>\n",
       "      <td>19285f8e012ad31cad237d53bab348ce59a5cc13684754...</td>\n",
       "      <td>common_voice_id_20425643.mp3</td>\n",
       "      <td>Inilah dunia kecil.</td>\n",
       "      <td>2</td>\n",
       "      <td>1</td>\n",
       "      <td>NaN</td>\n",
       "      <td>NaN</td>\n",
       "      <td>NaN</td>\n",
       "      <td>id</td>\n",
       "      <td>NaN</td>\n",
       "    </tr>\n",
       "    <tr>\n",
       "      <th>4</th>\n",
       "      <td>3502377c5fb712169a3f2fe5583906e4b3a5ecba27bf2c...</td>\n",
       "      <td>common_voice_id_22185104.mp3</td>\n",
       "      <td>nol</td>\n",
       "      <td>2</td>\n",
       "      <td>0</td>\n",
       "      <td>NaN</td>\n",
       "      <td>NaN</td>\n",
       "      <td>NaN</td>\n",
       "      <td>id</td>\n",
       "      <td>Benchmark</td>\n",
       "    </tr>\n",
       "  </tbody>\n",
       "</table>\n",
       "</div>"
      ],
      "text/plain": [
       "                                           client_id  \\\n",
       "0  057bf45c0c338db897f5717f744bcac8a2ac2eee990a42...   \n",
       "1  0835fbbf1d609a6ed421eef134a48ff06d719121b41f3b...   \n",
       "2  0c8ac0307f35c73b09d8fc0d92e4c183e3078adee87212...   \n",
       "3  19285f8e012ad31cad237d53bab348ce59a5cc13684754...   \n",
       "4  3502377c5fb712169a3f2fe5583906e4b3a5ecba27bf2c...   \n",
       "\n",
       "                           path  \\\n",
       "0  common_voice_id_22888800.mp3   \n",
       "1  common_voice_id_24015257.mp3   \n",
       "2  common_voice_id_24015280.mp3   \n",
       "3  common_voice_id_20425643.mp3   \n",
       "4  common_voice_id_22185104.mp3   \n",
       "\n",
       "                                            sentence  up_votes  down_votes  \\\n",
       "0         Minggu depan kakak perempuan saya menikah.         2           0   \n",
       "1  Berbagai bahasa daerah dan bahasa asing menjad...         2           1   \n",
       "2               apa yang bisa saya berikan kepadamu?         2           0   \n",
       "3                                Inilah dunia kecil.         2           1   \n",
       "4                                                nol         2           0   \n",
       "\n",
       "   age gender  accent locale    segment  \n",
       "0  NaN    NaN     NaN     id        NaN  \n",
       "1  NaN    NaN     NaN     id        NaN  \n",
       "2  NaN    NaN     NaN     id        NaN  \n",
       "3  NaN    NaN     NaN     id        NaN  \n",
       "4  NaN    NaN     NaN     id  Benchmark  "
      ]
     },
     "execution_count": 8,
     "metadata": {},
     "output_type": "execute_result"
    }
   ],
   "source": [
    "test_df.head(5)"
   ]
  },
  {
   "cell_type": "code",
   "execution_count": 9,
   "metadata": {},
   "outputs": [],
   "source": [
    "test_df = test_df[test_df[\"up_votes\"] >= test_df[\"down_votes\"]]\n",
    "test_df = test_df[[\"path\", \"sentence\"]]"
   ]
  },
  {
   "cell_type": "code",
   "execution_count": 10,
   "metadata": {},
   "outputs": [
    {
     "data": {
      "text/plain": [
       "0"
      ]
     },
     "execution_count": 10,
     "metadata": {},
     "output_type": "execute_result"
    }
   ],
   "source": [
    "test_df.duplicated().sum()"
   ]
  },
  {
   "cell_type": "code",
   "execution_count": 11,
   "metadata": {},
   "outputs": [
    {
     "data": {
      "text/plain": [
       "path        0\n",
       "sentence    0\n",
       "dtype: int64"
      ]
     },
     "execution_count": 11,
     "metadata": {},
     "output_type": "execute_result"
    }
   ],
   "source": [
    "test_df.isna().sum()"
   ]
  },
  {
   "cell_type": "markdown",
   "metadata": {},
   "source": [
    "##### 3. Split Data"
   ]
  },
  {
   "cell_type": "code",
   "execution_count": 12,
   "metadata": {},
   "outputs": [],
   "source": [
    "valid_df, test_df = train_test_split(test_df, test_size = 0.5, random_state = 42)"
   ]
  },
  {
   "cell_type": "markdown",
   "metadata": {},
   "source": [
    "### II. Data Preprocessing"
   ]
  },
  {
   "cell_type": "markdown",
   "metadata": {},
   "source": [
    "### III. Feature Extraction"
   ]
  },
  {
   "cell_type": "markdown",
   "metadata": {},
   "source": [
    "### IV. Modeling"
   ]
  },
  {
   "cell_type": "markdown",
   "metadata": {},
   "source": [
    "### V. Model Evaluation"
   ]
  },
  {
   "cell_type": "markdown",
   "metadata": {},
   "source": [
    "### VI. Conclusion"
   ]
  },
  {
   "cell_type": "markdown",
   "metadata": {},
   "source": [
    "### VII. References"
   ]
  },
  {
   "cell_type": "markdown",
   "metadata": {},
   "source": [
    "[1] L. Maison and Y. Estève, “Some voices are too common: Building fair speech recognition systems using the Common Voice dataset.”\n",
    "  "
   ]
  }
 ],
 "metadata": {
  "kernelspec": {
   "display_name": "main-gpu",
   "language": "python",
   "name": "python3"
  },
  "language_info": {
   "codemirror_mode": {
    "name": "ipython",
    "version": 3
   },
   "file_extension": ".py",
   "mimetype": "text/x-python",
   "name": "python",
   "nbconvert_exporter": "python",
   "pygments_lexer": "ipython3",
   "version": "3.10.16"
  }
 },
 "nbformat": 4,
 "nbformat_minor": 2
}
